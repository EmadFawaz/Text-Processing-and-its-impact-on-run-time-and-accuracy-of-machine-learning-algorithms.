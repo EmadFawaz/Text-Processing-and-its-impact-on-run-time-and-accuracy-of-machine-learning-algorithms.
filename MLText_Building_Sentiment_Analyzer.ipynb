{
 "cells": [
  {
   "cell_type": "markdown",
   "metadata": {},
   "source": [
    "# Building a Sentiment Analyzer\n",
    "This project is using the IMDB movie review dataset. Publications Using the Dataset:\n",
    "Andrew L. Maas, Raymond E. Daly, Peter T. Pham, Dan Huang, Andrew Y. Ng, and Christopher Potts. (2011). Learning Word Vectors for Sentiment Analysis. The 49th Annual Meeting of the Association for Computational Linguistics (ACL 2011). "
   ]
  },
  {
   "cell_type": "markdown",
   "metadata": {},
   "source": [
    "> Initial Stage (Compiling the data and building the dataframe)"
   ]
  },
  {
   "cell_type": "code",
   "execution_count": null,
   "metadata": {},
   "outputs": [],
   "source": [
    "#Download the data\n",
    "from urllib.request import urlretrieve as retrieve\n",
    "url = \"http://ai.stanford.edu/~amaas/data/sentiment/aclImdb_v1.tar.gz\"\n",
    "retrieve(url, filename=\"./aclImdb_v1.tar.gz\") \n",
    "print (\"download complete!\")"
   ]
  },
  {
   "cell_type": "code",
   "execution_count": null,
   "metadata": {},
   "outputs": [],
   "source": [
    "# Unzipping the data\n",
    "import tarfile\n",
    "tfile = tarfile.open(\"aclImdb_v1.tar.gz\", \"r:gz\")\n",
    "tfile.extractall()\n",
    "\n",
    "print (\"ready to go!\")"
   ]
  },
  {
   "cell_type": "code",
   "execution_count": null,
   "metadata": {},
   "outputs": [],
   "source": [
    "# Convert the dataset from files to a python DataFrame\n",
    "import pandas as pd\n",
    "import os\n",
    "folder = 'aclImdb'\n",
    "labels = {'pos': 1, 'neg': 0}\n",
    "df = pd.DataFrame()\n",
    "for f in ('test', 'train'):    \n",
    "    for l in ('pos', 'neg'):\n",
    "        path = os.path.join(folder, f, l)\n",
    "        for file in os.listdir (path) :\n",
    "            with open(os.path.join(path, file),'r', encoding='utf-8') as infile:\n",
    "                txt = infile.read()\n",
    "            df = df.append([[txt, labels[l]]],ignore_index=True)\n",
    "df.columns = ['review', 'sentiment']"
   ]
  },
  {
   "cell_type": "code",
   "execution_count": null,
   "metadata": {},
   "outputs": [],
   "source": [
    "# Save the assembled data as .csv file for future retrieve\n",
    "df.to_csv('movie_data.csv', index=False, encoding='utf-8')\n",
    "df.head()"
   ]
  },
  {
   "cell_type": "markdown",
   "metadata": {},
   "source": [
    "> Start working from here after performing the previous steps once"
   ]
  },
  {
   "cell_type": "code",
   "execution_count": 1,
   "metadata": {},
   "outputs": [
    {
     "data": {
      "text/html": [
       "<div>\n",
       "<style scoped>\n",
       "    .dataframe tbody tr th:only-of-type {\n",
       "        vertical-align: middle;\n",
       "    }\n",
       "\n",
       "    .dataframe tbody tr th {\n",
       "        vertical-align: top;\n",
       "    }\n",
       "\n",
       "    .dataframe thead th {\n",
       "        text-align: right;\n",
       "    }\n",
       "</style>\n",
       "<table border=\"1\" class=\"dataframe\">\n",
       "  <thead>\n",
       "    <tr style=\"text-align: right;\">\n",
       "      <th></th>\n",
       "      <th>review</th>\n",
       "      <th>sentiment</th>\n",
       "    </tr>\n",
       "  </thead>\n",
       "  <tbody>\n",
       "    <tr>\n",
       "      <th>0</th>\n",
       "      <td>I went and saw this movie last night after bei...</td>\n",
       "      <td>1</td>\n",
       "    </tr>\n",
       "    <tr>\n",
       "      <th>1</th>\n",
       "      <td>Actor turned director Bill Paxton follows up h...</td>\n",
       "      <td>1</td>\n",
       "    </tr>\n",
       "    <tr>\n",
       "      <th>2</th>\n",
       "      <td>As a recreational golfer with some knowledge o...</td>\n",
       "      <td>1</td>\n",
       "    </tr>\n",
       "    <tr>\n",
       "      <th>3</th>\n",
       "      <td>I saw this film in a sneak preview, and it is ...</td>\n",
       "      <td>1</td>\n",
       "    </tr>\n",
       "    <tr>\n",
       "      <th>4</th>\n",
       "      <td>Bill Paxton has taken the true story of the 19...</td>\n",
       "      <td>1</td>\n",
       "    </tr>\n",
       "  </tbody>\n",
       "</table>\n",
       "</div>"
      ],
      "text/plain": [
       "                                              review  sentiment\n",
       "0  I went and saw this movie last night after bei...          1\n",
       "1  Actor turned director Bill Paxton follows up h...          1\n",
       "2  As a recreational golfer with some knowledge o...          1\n",
       "3  I saw this film in a sneak preview, and it is ...          1\n",
       "4  Bill Paxton has taken the true story of the 19...          1"
      ]
     },
     "execution_count": 1,
     "metadata": {},
     "output_type": "execute_result"
    }
   ],
   "source": [
    "# Read the saved file\n",
    "import pandas as pd\n",
    "df = pd.read_csv('movie_data.csv')\n",
    "df.head()"
   ]
  },
  {
   "cell_type": "code",
   "execution_count": 2,
   "metadata": {},
   "outputs": [
    {
     "name": "stdout",
     "output_type": "stream",
     "text": [
      "<class 'pandas.core.frame.DataFrame'>\n",
      "RangeIndex: 50000 entries, 0 to 49999\n",
      "Data columns (total 2 columns):\n",
      "review       50000 non-null object\n",
      "sentiment    50000 non-null int64\n",
      "dtypes: int64(1), object(1)\n",
      "memory usage: 586.0+ KB\n"
     ]
    }
   ],
   "source": [
    "df.info()"
   ]
  },
  {
   "cell_type": "markdown",
   "metadata": {},
   "source": [
    "## Step 1: Preprocessing"
   ]
  },
  {
   "cell_type": "markdown",
   "metadata": {},
   "source": [
    "Text preprocessing include basic four steps\n",
    "- 1-\tTokenization\n",
    "- 2-\tRemoving punctuation\n",
    "- 3-\tRemoving stop words\n",
    "- 4-\tStemming"
   ]
  },
  {
   "cell_type": "code",
   "execution_count": 2,
   "metadata": {},
   "outputs": [],
   "source": [
    "# Using nltk\n",
    "import nltk"
   ]
  },
  {
   "cell_type": "code",
   "execution_count": 3,
   "metadata": {},
   "outputs": [],
   "source": [
    "# Defining a function for tokenization and removing punctuations\n",
    "# RegexpTokenizer can tokenize and remove punctuation in the same time\n",
    "def mytokenizer(item):\n",
    "    from nltk.tokenize import RegexpTokenizer\n",
    "    tokenizer = RegexpTokenizer(r'\\w+')\n",
    "    item = str(item)\n",
    "    item = tokenizer.tokenize(item)\n",
    "    return item"
   ]
  },
  {
   "cell_type": "code",
   "execution_count": 4,
   "metadata": {},
   "outputs": [],
   "source": [
    "# Defining a function for removing stop words\n",
    "def mystopwordsremover(item):\n",
    "    from nltk.corpus import stopwords\n",
    "    stop_words = set(stopwords.words('english'))\n",
    "    item = [w for w in item if not w in stop_words]\n",
    "    return item"
   ]
  },
  {
   "cell_type": "code",
   "execution_count": 5,
   "metadata": {},
   "outputs": [],
   "source": [
    "# Defining a function for Stemming\n",
    "def mystemmer(item):\n",
    "    from nltk.stem import PorterStemmer\n",
    "    ps = PorterStemmer()\n",
    "    item = [ps.stem(word) for word in item]\n",
    "    return str(item)"
   ]
  },
  {
   "cell_type": "code",
   "execution_count": 6,
   "metadata": {},
   "outputs": [
    {
     "name": "stdout",
     "output_type": "stream",
     "text": [
      "Text preprocessing time: 1886.523 s\n"
     ]
    }
   ],
   "source": [
    "# Processing the dataframe\n",
    "# Clone the dataframe to compare the accuracy of ML algurithms before and after text processing\n",
    "df2 = df\n",
    "\n",
    "# Measure processing time\n",
    "from time import time\n",
    "t0 = time()\n",
    "\n",
    "# Tokenization & removing punctuation\n",
    "df2.review = df2.review.apply(lambda x: mytokenizer(x))\n",
    "\n",
    "# Remove stopwords\n",
    "df2.review = df2.review.apply(lambda x: mystopwordsremover(x))\n",
    "\n",
    "# Stemming\n",
    "df2.review = df2.review.apply(lambda x: mystemmer(x))\n",
    "\n",
    "print (\"Text preprocessing time:\", round(time()-t0, 3), \"s\")"
   ]
  },
  {
   "cell_type": "code",
   "execution_count": 8,
   "metadata": {},
   "outputs": [
    {
     "data": {
      "text/html": [
       "<div>\n",
       "<style scoped>\n",
       "    .dataframe tbody tr th:only-of-type {\n",
       "        vertical-align: middle;\n",
       "    }\n",
       "\n",
       "    .dataframe tbody tr th {\n",
       "        vertical-align: top;\n",
       "    }\n",
       "\n",
       "    .dataframe thead th {\n",
       "        text-align: right;\n",
       "    }\n",
       "</style>\n",
       "<table border=\"1\" class=\"dataframe\">\n",
       "  <thead>\n",
       "    <tr style=\"text-align: right;\">\n",
       "      <th></th>\n",
       "      <th>review</th>\n",
       "      <th>sentiment</th>\n",
       "    </tr>\n",
       "  </thead>\n",
       "  <tbody>\n",
       "    <tr>\n",
       "      <th>0</th>\n",
       "      <td>['I', 'went', 'saw', 'movi', 'last', 'night', ...</td>\n",
       "      <td>1</td>\n",
       "    </tr>\n",
       "    <tr>\n",
       "      <th>1</th>\n",
       "      <td>['actor', 'turn', 'director', 'bill', 'paxton'...</td>\n",
       "      <td>1</td>\n",
       "    </tr>\n",
       "    <tr>\n",
       "      <th>2</th>\n",
       "      <td>['As', 'recreat', 'golfer', 'knowledg', 'sport...</td>\n",
       "      <td>1</td>\n",
       "    </tr>\n",
       "    <tr>\n",
       "      <th>3</th>\n",
       "      <td>['I', 'saw', 'film', 'sneak', 'preview', 'deli...</td>\n",
       "      <td>1</td>\n",
       "    </tr>\n",
       "    <tr>\n",
       "      <th>4</th>\n",
       "      <td>['bill', 'paxton', 'taken', 'true', 'stori', '...</td>\n",
       "      <td>1</td>\n",
       "    </tr>\n",
       "  </tbody>\n",
       "</table>\n",
       "</div>"
      ],
      "text/plain": [
       "                                              review  sentiment\n",
       "0  ['I', 'went', 'saw', 'movi', 'last', 'night', ...          1\n",
       "1  ['actor', 'turn', 'director', 'bill', 'paxton'...          1\n",
       "2  ['As', 'recreat', 'golfer', 'knowledg', 'sport...          1\n",
       "3  ['I', 'saw', 'film', 'sneak', 'preview', 'deli...          1\n",
       "4  ['bill', 'paxton', 'taken', 'true', 'stori', '...          1"
      ]
     },
     "execution_count": 8,
     "metadata": {},
     "output_type": "execute_result"
    }
   ],
   "source": [
    "df2.head()"
   ]
  },
  {
   "cell_type": "code",
   "execution_count": 9,
   "metadata": {},
   "outputs": [
    {
     "name": "stdout",
     "output_type": "stream",
     "text": [
      "<class 'pandas.core.frame.DataFrame'>\n",
      "RangeIndex: 50000 entries, 0 to 49999\n",
      "Data columns (total 2 columns):\n",
      "review       50000 non-null object\n",
      "sentiment    50000 non-null int64\n",
      "dtypes: int64(1), object(1)\n",
      "memory usage: 586.0+ KB\n"
     ]
    }
   ],
   "source": [
    "df2.info()"
   ]
  },
  {
   "cell_type": "code",
   "execution_count": 10,
   "metadata": {},
   "outputs": [],
   "source": [
    "# Save the processed data as .csv file for future retrieve\n",
    "df2.to_csv('movie_data_processed.csv', index=False, encoding='utf-8')"
   ]
  },
  {
   "cell_type": "markdown",
   "metadata": {},
   "source": [
    "## Step 2: Feature Extraction"
   ]
  },
  {
   "cell_type": "code",
   "execution_count": 11,
   "metadata": {},
   "outputs": [],
   "source": [
    "# Read the saved files\n",
    "import pandas as pd\n",
    "df = pd.read_csv('movie_data.csv')\n",
    "df2 = pd.read_csv('movie_data_processed.csv')"
   ]
  },
  {
   "cell_type": "code",
   "execution_count": 21,
   "metadata": {},
   "outputs": [
    {
     "data": {
      "text/html": [
       "<div>\n",
       "<style scoped>\n",
       "    .dataframe tbody tr th:only-of-type {\n",
       "        vertical-align: middle;\n",
       "    }\n",
       "\n",
       "    .dataframe tbody tr th {\n",
       "        vertical-align: top;\n",
       "    }\n",
       "\n",
       "    .dataframe thead th {\n",
       "        text-align: right;\n",
       "    }\n",
       "</style>\n",
       "<table border=\"1\" class=\"dataframe\">\n",
       "  <thead>\n",
       "    <tr style=\"text-align: right;\">\n",
       "      <th></th>\n",
       "      <th>review</th>\n",
       "      <th>sentiment</th>\n",
       "    </tr>\n",
       "  </thead>\n",
       "  <tbody>\n",
       "    <tr>\n",
       "      <th>0</th>\n",
       "      <td>I went and saw this movie last night after bei...</td>\n",
       "      <td>1</td>\n",
       "    </tr>\n",
       "    <tr>\n",
       "      <th>1</th>\n",
       "      <td>Actor turned director Bill Paxton follows up h...</td>\n",
       "      <td>1</td>\n",
       "    </tr>\n",
       "    <tr>\n",
       "      <th>2</th>\n",
       "      <td>As a recreational golfer with some knowledge o...</td>\n",
       "      <td>1</td>\n",
       "    </tr>\n",
       "    <tr>\n",
       "      <th>3</th>\n",
       "      <td>I saw this film in a sneak preview, and it is ...</td>\n",
       "      <td>1</td>\n",
       "    </tr>\n",
       "    <tr>\n",
       "      <th>4</th>\n",
       "      <td>Bill Paxton has taken the true story of the 19...</td>\n",
       "      <td>1</td>\n",
       "    </tr>\n",
       "  </tbody>\n",
       "</table>\n",
       "</div>"
      ],
      "text/plain": [
       "                                              review  sentiment\n",
       "0  I went and saw this movie last night after bei...          1\n",
       "1  Actor turned director Bill Paxton follows up h...          1\n",
       "2  As a recreational golfer with some knowledge o...          1\n",
       "3  I saw this film in a sneak preview, and it is ...          1\n",
       "4  Bill Paxton has taken the true story of the 19...          1"
      ]
     },
     "execution_count": 21,
     "metadata": {},
     "output_type": "execute_result"
    }
   ],
   "source": [
    "df.head()"
   ]
  },
  {
   "cell_type": "code",
   "execution_count": 22,
   "metadata": {},
   "outputs": [
    {
     "data": {
      "text/html": [
       "<div>\n",
       "<style scoped>\n",
       "    .dataframe tbody tr th:only-of-type {\n",
       "        vertical-align: middle;\n",
       "    }\n",
       "\n",
       "    .dataframe tbody tr th {\n",
       "        vertical-align: top;\n",
       "    }\n",
       "\n",
       "    .dataframe thead th {\n",
       "        text-align: right;\n",
       "    }\n",
       "</style>\n",
       "<table border=\"1\" class=\"dataframe\">\n",
       "  <thead>\n",
       "    <tr style=\"text-align: right;\">\n",
       "      <th></th>\n",
       "      <th>review</th>\n",
       "      <th>sentiment</th>\n",
       "    </tr>\n",
       "  </thead>\n",
       "  <tbody>\n",
       "    <tr>\n",
       "      <th>0</th>\n",
       "      <td>['I', 'went', 'saw', 'movi', 'last', 'night', ...</td>\n",
       "      <td>1</td>\n",
       "    </tr>\n",
       "    <tr>\n",
       "      <th>1</th>\n",
       "      <td>['actor', 'turn', 'director', 'bill', 'paxton'...</td>\n",
       "      <td>1</td>\n",
       "    </tr>\n",
       "    <tr>\n",
       "      <th>2</th>\n",
       "      <td>['As', 'recreat', 'golfer', 'knowledg', 'sport...</td>\n",
       "      <td>1</td>\n",
       "    </tr>\n",
       "    <tr>\n",
       "      <th>3</th>\n",
       "      <td>['I', 'saw', 'film', 'sneak', 'preview', 'deli...</td>\n",
       "      <td>1</td>\n",
       "    </tr>\n",
       "    <tr>\n",
       "      <th>4</th>\n",
       "      <td>['bill', 'paxton', 'taken', 'true', 'stori', '...</td>\n",
       "      <td>1</td>\n",
       "    </tr>\n",
       "  </tbody>\n",
       "</table>\n",
       "</div>"
      ],
      "text/plain": [
       "                                              review  sentiment\n",
       "0  ['I', 'went', 'saw', 'movi', 'last', 'night', ...          1\n",
       "1  ['actor', 'turn', 'director', 'bill', 'paxton'...          1\n",
       "2  ['As', 'recreat', 'golfer', 'knowledg', 'sport...          1\n",
       "3  ['I', 'saw', 'film', 'sneak', 'preview', 'deli...          1\n",
       "4  ['bill', 'paxton', 'taken', 'true', 'stori', '...          1"
      ]
     },
     "execution_count": 22,
     "metadata": {},
     "output_type": "execute_result"
    }
   ],
   "source": [
    "df2.head()"
   ]
  },
  {
   "cell_type": "markdown",
   "metadata": {},
   "source": [
    "Using Unprocessed text"
   ]
  },
  {
   "cell_type": "code",
   "execution_count": 13,
   "metadata": {},
   "outputs": [],
   "source": [
    "# Split data into train and test data. Each 25000 \n",
    "X_train = df.loc[:24999, 'review'].values\n",
    "y_train = df.loc[:24999, 'sentiment'].values\n",
    "X_test = df.loc[25000:, 'review'].values\n",
    "y_test = df.loc[25000:, 'sentiment'].values"
   ]
  },
  {
   "cell_type": "code",
   "execution_count": 14,
   "metadata": {},
   "outputs": [],
   "source": [
    "# Convert the text corpus into the feature vectors (eg. using TfidTransformer)\n",
    "from sklearn.feature_extraction.text import TfidfTransformer\n",
    "from sklearn.feature_extraction.text import TfidfVectorizer\n",
    "vectorizer = TfidfVectorizer()\n",
    "train_vectors = vectorizer.fit_transform(X_train)\n",
    "test_vectors = vectorizer.transform(X_test)"
   ]
  },
  {
   "cell_type": "code",
   "execution_count": 15,
   "metadata": {},
   "outputs": [
    {
     "data": {
      "text/plain": [
       "(25000, 73822)"
      ]
     },
     "execution_count": 15,
     "metadata": {},
     "output_type": "execute_result"
    }
   ],
   "source": [
    "# check the shape of your files as an indication of successful steps so far\n",
    "train_vectors.shape"
   ]
  },
  {
   "cell_type": "code",
   "execution_count": 16,
   "metadata": {},
   "outputs": [
    {
     "data": {
      "text/plain": [
       "(25000, 73822)"
      ]
     },
     "execution_count": 16,
     "metadata": {},
     "output_type": "execute_result"
    }
   ],
   "source": [
    "test_vectors.shape"
   ]
  },
  {
   "cell_type": "markdown",
   "metadata": {},
   "source": [
    "Using processed text"
   ]
  },
  {
   "cell_type": "code",
   "execution_count": 17,
   "metadata": {},
   "outputs": [],
   "source": [
    "# Split data into train and test data. Each 25000 \n",
    "X_train2 = df2.loc[:24999, 'review'].values\n",
    "y_train2 = df2.loc[:24999, 'sentiment'].values\n",
    "X_test2 = df2.loc[25000:, 'review'].values\n",
    "y_test2 = df2.loc[25000:, 'sentiment'].values"
   ]
  },
  {
   "cell_type": "code",
   "execution_count": 18,
   "metadata": {},
   "outputs": [],
   "source": [
    "# Convert the text corpus into the feature vectors (eg. using TfidTransformer)\n",
    "from sklearn.feature_extraction.text import TfidfTransformer\n",
    "from sklearn.feature_extraction.text import TfidfVectorizer\n",
    "vectorizer = TfidfVectorizer()\n",
    "train_vectors2 = vectorizer.fit_transform(X_train)\n",
    "test_vectors2 = vectorizer.transform(X_test)"
   ]
  },
  {
   "cell_type": "code",
   "execution_count": 19,
   "metadata": {},
   "outputs": [
    {
     "data": {
      "text/plain": [
       "(25000, 73822)"
      ]
     },
     "execution_count": 19,
     "metadata": {},
     "output_type": "execute_result"
    }
   ],
   "source": [
    "# check the shape of your files as an indication of successful steps so far\n",
    "train_vectors2.shape"
   ]
  },
  {
   "cell_type": "code",
   "execution_count": 20,
   "metadata": {},
   "outputs": [
    {
     "data": {
      "text/plain": [
       "(25000, 73822)"
      ]
     },
     "execution_count": 20,
     "metadata": {},
     "output_type": "execute_result"
    }
   ],
   "source": [
    "test_vectors2.shape"
   ]
  },
  {
   "cell_type": "markdown",
   "metadata": {},
   "source": [
    "## Step 3: Choosing ML Algorithm\n",
    "Measure operation time and accuracy for comparing between algorithms\n",
    "\n",
    "Steps of algorithm development\n",
    "- Step 0: Import it\n",
    "- step 1: Create it\n",
    "- step 2: Fit it\n",
    "- step 3: Use it (predictions)\n",
    "- step 4: Evaluate it (calculate accuracy) "
   ]
  },
  {
   "cell_type": "code",
   "execution_count": 23,
   "metadata": {},
   "outputs": [],
   "source": [
    "# To compare processing times between different algorithms\n",
    "from time import time"
   ]
  },
  {
   "cell_type": "markdown",
   "metadata": {},
   "source": [
    "### Using Basic Naive Bayes Classifier"
   ]
  },
  {
   "cell_type": "code",
   "execution_count": 24,
   "metadata": {},
   "outputs": [
    {
     "name": "stdout",
     "output_type": "stream",
     "text": [
      "Basic Naive Bayes Metrics using unprocessed texts\n",
      "Fitting time: 0.816 s\n",
      "Training time: 0.504 s\n",
      "Accuracy before text processing = 0.83664\n"
     ]
    }
   ],
   "source": [
    "print (\"Basic Naive Bayes Metrics using unprocessed texts\")\n",
    "\n",
    "# Step 3.0: Import it\n",
    "from sklearn.naive_bayes import MultinomialNB\n",
    "\n",
    "# step 3.1: Create it\n",
    "clf = MultinomialNB()\n",
    "\n",
    "# step 3.2: Fit it \n",
    "t0 = time()\n",
    "clf = clf.fit(train_vectors, y_train)\n",
    "print (\"Fitting time:\", round(time()-t0, 3), \"s\")\n",
    "\n",
    "# step 3.3: Use it ( for predictions)\n",
    "t0 = time()\n",
    "predicted = clf.predict(test_vectors)\n",
    "print (\"Training time:\", round(time()-t0, 3), \"s\")\n",
    "\n",
    "# step 3.4: Evaluate it (calculate accuracy)\n",
    "from sklearn.metrics import accuracy_score\n",
    "accuracy = accuracy_score(predicted, y_test)\n",
    "print (\"Accuracy before text processing =\", accuracy) "
   ]
  },
  {
   "cell_type": "code",
   "execution_count": 25,
   "metadata": {},
   "outputs": [
    {
     "name": "stdout",
     "output_type": "stream",
     "text": [
      "Basic Naive Bayes Metrics using processed text\n",
      "Fitting time: 0.6 s\n",
      "Training time: 0.515 s\n",
      "Accuracy after text processing = 0.83664\n"
     ]
    }
   ],
   "source": [
    "print (\"Basic Naive Bayes Metrics using processed text\")\n",
    "\n",
    "# Step 3.0: Import it\n",
    "from sklearn.naive_bayes import MultinomialNB\n",
    "\n",
    "# step 3.1: Create it\n",
    "clf = MultinomialNB()\n",
    "\n",
    "# step 3.2: Fit it \n",
    "t0 = time()\n",
    "clf = clf.fit(train_vectors2, y_train2)\n",
    "print (\"Fitting time:\", round(time()-t0, 3), \"s\")\n",
    "\n",
    "# step 3.3: Use it ( for predictions)\n",
    "t0 = time()\n",
    "predicted = clf.predict(test_vectors2)\n",
    "print (\"Training time:\", round(time()-t0, 3), \"s\")\n",
    "\n",
    "# step 3.4: Evaluate it (calculate accuracy)\n",
    "from sklearn.metrics import accuracy_score\n",
    "accuracy = accuracy_score(predicted, y_test2)\n",
    "print (\"Accuracy after text processing =\", accuracy) "
   ]
  },
  {
   "cell_type": "markdown",
   "metadata": {},
   "source": [
    "### Using SVM"
   ]
  },
  {
   "cell_type": "code",
   "execution_count": 28,
   "metadata": {},
   "outputs": [
    {
     "name": "stdout",
     "output_type": "stream",
     "text": [
      "SVM Metrics\n"
     ]
    },
    {
     "name": "stderr",
     "output_type": "stream",
     "text": [
      "D:\\Programs_Install\\Anaconda\\lib\\site-packages\\sklearn\\svm\\base.py:196: FutureWarning: The default value of gamma will change from 'auto' to 'scale' in version 0.22 to account better for unscaled features. Set gamma explicitly to 'auto' or 'scale' to avoid this warning.\n",
      "  \"avoid this warning.\", FutureWarning)\n"
     ]
    },
    {
     "name": "stdout",
     "output_type": "stream",
     "text": [
      "Fitting time: 1589.629 s\n",
      "Training time: 1440.987 s\n",
      "Accuracy = 0.88052\n"
     ]
    }
   ],
   "source": [
    "print (\"SVM Metrics\")\n",
    "\n",
    "# Step 3.0: Import it\n",
    "from sklearn.svm import SVC\n",
    "\n",
    "# step 3.1: Create it\n",
    "clf = SVC(C=10000.0, kernel=\"rbf\")\n",
    "\n",
    "# step 3.2: Fit it \n",
    "t0 = time()\n",
    "clf = clf.fit(train_vectors, y_train)\n",
    "print (\"Fitting time:\", round(time()-t0, 3), \"s\")\n",
    "\n",
    "# step 3.3: Use it ( for predictions)\n",
    "t0 = time()\n",
    "predicted = clf.predict(test_vectors)\n",
    "print (\"Training time:\", round(time()-t0, 3), \"s\")\n",
    "\n",
    "# step 3.4: Evaluate it (calculate accuracy)\n",
    "from sklearn.metrics import accuracy_score\n",
    "accuracy = accuracy_score(predicted, y_test)\n",
    "print (\"Accuracy =\", accuracy) "
   ]
  },
  {
   "cell_type": "code",
   "execution_count": 29,
   "metadata": {},
   "outputs": [
    {
     "name": "stdout",
     "output_type": "stream",
     "text": [
      "SVM Metrics using processed text\n",
      "Fitting time: 1405.006 s\n",
      "Training time: 1349.856 s\n",
      "Accuracy = 0.88052\n"
     ]
    }
   ],
   "source": [
    "print (\"SVM Metrics using processed text\")\n",
    "\n",
    "# Step 3.0: Import it\n",
    "from sklearn.svm import SVC\n",
    "\n",
    "# step 3.1: Create it\n",
    "clf = SVC(C=10000.0, kernel=\"rbf\")\n",
    "\n",
    "# step 3.2: Fit it \n",
    "t0 = time()\n",
    "clf = clf.fit(train_vectors2, y_train2)\n",
    "print (\"Fitting time:\", round(time()-t0, 3), \"s\")\n",
    "\n",
    "# step 3.3: Use it ( for predictions)\n",
    "t0 = time()\n",
    "predicted = clf.predict(test_vectors2)\n",
    "print (\"Training time:\", round(time()-t0, 3), \"s\")\n",
    "\n",
    "# step 3.4: Evaluate it (calculate accuracy)\n",
    "from sklearn.metrics import accuracy_score\n",
    "accuracy = accuracy_score(predicted, y_test2)\n",
    "print (\"Accuracy =\", accuracy) "
   ]
  },
  {
   "cell_type": "markdown",
   "metadata": {},
   "source": [
    "### Using Decision Tree"
   ]
  },
  {
   "cell_type": "code",
   "execution_count": 30,
   "metadata": {},
   "outputs": [
    {
     "name": "stdout",
     "output_type": "stream",
     "text": [
      "Decision Tree Metrics\n",
      "Fitting time: 298.126 s\n",
      "Training time: 0.46 s\n",
      "Accuracy before text processing = 0.70776\n"
     ]
    }
   ],
   "source": [
    "print (\"Decision Tree Metrics\")\n",
    "\n",
    "# Step 3.0: Import it\n",
    "from sklearn import tree\n",
    "\n",
    "# step 3.1: Create it\n",
    "clf = tree.DecisionTreeClassifier(min_samples_split=2)\n",
    "\n",
    "# step 3.2: Fit it \n",
    "t0 = time()\n",
    "clf = clf.fit(train_vectors, y_train)\n",
    "print (\"Fitting time:\", round(time()-t0, 3), \"s\")\n",
    "\n",
    "# step 3.3: Use it ( for predictions)\n",
    "t0 = time()\n",
    "predicted = clf.predict(test_vectors)\n",
    "print (\"Training time:\", round(time()-t0, 3), \"s\")\n",
    "\n",
    "# step 3.4: Evaluate it (calculate accuracy)\n",
    "from sklearn.metrics import accuracy_score\n",
    "accuracy = accuracy_score(predicted, y_test)\n",
    "print (\"Accuracy before text processing =\", accuracy) "
   ]
  },
  {
   "cell_type": "code",
   "execution_count": 32,
   "metadata": {},
   "outputs": [
    {
     "name": "stdout",
     "output_type": "stream",
     "text": [
      "Decision Tree Metrics using processed text\n",
      "Fitting time: 306.782 s\n",
      "Training time: 0.435 s\n",
      "Accuracy after text processing = 0.71044\n"
     ]
    }
   ],
   "source": [
    "print (\"Decision Tree Metrics using processed text\")\n",
    "\n",
    "# Step 3.0: Import it\n",
    "from sklearn import tree\n",
    "\n",
    "# step 3.1: Create it\n",
    "clf = tree.DecisionTreeClassifier(min_samples_split=2)\n",
    "\n",
    "# step 3.2: Fit it \n",
    "t0 = time()\n",
    "clf = clf.fit(train_vectors2, y_train2)\n",
    "print (\"Fitting time:\", round(time()-t0, 3), \"s\")\n",
    "\n",
    "# step 3.3: Use it ( for predictions)\n",
    "t0 = time()\n",
    "predicted = clf.predict(test_vectors2)\n",
    "print (\"Training time:\", round(time()-t0, 3), \"s\")\n",
    "\n",
    "# step 3.4: Evaluate it (calculate accuracy)\n",
    "from sklearn.metrics import accuracy_score\n",
    "accuracy = accuracy_score(predicted, y_test2)\n",
    "print (\"Accuracy after text processing =\", accuracy) "
   ]
  },
  {
   "cell_type": "code",
   "execution_count": null,
   "metadata": {},
   "outputs": [],
   "source": []
  }
 ],
 "metadata": {
  "kernelspec": {
   "display_name": "Python 3",
   "language": "python",
   "name": "python3"
  },
  "language_info": {
   "codemirror_mode": {
    "name": "ipython",
    "version": 3
   },
   "file_extension": ".py",
   "mimetype": "text/x-python",
   "name": "python",
   "nbconvert_exporter": "python",
   "pygments_lexer": "ipython3",
   "version": "3.7.1"
  }
 },
 "nbformat": 4,
 "nbformat_minor": 2
}
